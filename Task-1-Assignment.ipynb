{
 "cells": [
  {
   "cell_type": "markdown",
   "id": "328b62f1-e82c-4b7c-b5cc-11ad35c418e1",
   "metadata": {},
   "source": [
    "#### (1)-"
   ]
  },
  {
   "cell_type": "code",
   "execution_count": 20,
   "id": "15f4a622-331a-4f40-8d3d-695a66198e91",
   "metadata": {},
   "outputs": [
    {
     "name": "stdout",
     "output_type": "stream",
     "text": [
      "The flat list with all the elements is\n",
      " [1, 2, 3, 4, 44, 55, 66, True, False, 34, 56, 78, 89, 34, 1, 2, 3, 1, 'key2', 4, 34, 55, 67, 78, 89, 45, 22, 61, 34, 56, 'data science', 'Machine Learning']\n",
      "\n",
      "The list with all numbers is\n",
      " [1, 2, 3, 4, 44, 55, 66, 34, 56, 78, 89, 34, 1, 2, 3, 1, 4, 34, 55, 67, 78, 89, 45, 22, 61, 34, 56]\n",
      "\n",
      "The product of all numbers= 4134711838987085478833841242112000\n"
     ]
    }
   ],
   "source": [
    "\n",
    "from functools import reduce\n",
    "\n",
    "def product(list1):\n",
    "    flat_list=[]\n",
    "    for i in list1:\n",
    "        if type(i)==list or type(i)==tuple:\n",
    "            for j in i:\n",
    "                flat_list.append(j)\n",
    "        elif type(i)==int or type(i)==str or type(i)==bool:\n",
    "            flat_list.append(i)\n",
    "        elif type(i)==set:\n",
    "            for j in i:\n",
    "                flat_list.append(j)\n",
    "        else:\n",
    "            for j in i.keys():\n",
    "                flat_list.append(j)\n",
    "            for k in i.values():\n",
    "                if type(k)==int:\n",
    "                    flat_list.append(k)\n",
    "                else:\n",
    "                    for r in k:\n",
    "                        flat_list.append(r)\n",
    "        \n",
    "    \n",
    "    num_list= list(filter(lambda x: type(x)==int,  flat_list))\n",
    "   \n",
    "    product_of_no= reduce(lambda x,y: x*y,  num_list)\n",
    "    return flat_list,num_list,product_of_no\n",
    "\n",
    "\n",
    "list1 = [1,2,3,4, [44,55,66, True], False, (34,56,78,89,34), {1,2,3,3,2,1}, {1:34, \"key2\": [55, 67, 78, 89], 4: (45,\n",
    "22, 61, 34)}, [56, \"data science\"], \"Machine Learning\"]\n",
    "   \n",
    "flat_list, num_list, product_of_no=product(list1)\n",
    "\n",
    "print(\"The flat list with all the elements is\\n\",flat_list)\n",
    "print(\"\\nThe list with all numbers is\\n\",num_list)\n",
    "print(\"\\nThe product of all numbers=\",product_of_no)\n",
    "\n"
   ]
  },
  {
   "cell_type": "markdown",
   "id": "22095318-1706-4356-92b4-41a64ccf7dca",
   "metadata": {},
   "source": [
    "#### (2)-"
   ]
  },
  {
   "cell_type": "code",
   "execution_count": 44,
   "id": "4347a9f3-02fb-4ebd-98b1-9600d8de56b8",
   "metadata": {},
   "outputs": [
    {
     "name": "stdout",
     "output_type": "stream",
     "text": [
      "The encrypted message is: i$wznt$to$yexome$z$dztz$sxientist\n"
     ]
    }
   ],
   "source": [
    "def encryption(input_sentence):\n",
    "    str1= input_sentence.lower()\n",
    "    dict1={\"a\":\"z\",\"b\":\"y\",\"c\":\"x\",\" \":\"$\"}\n",
    "    for i in dict1.keys():\n",
    "        str1= str1.replace(i,dict1[i])\n",
    "    return str1\n",
    "        \n",
    "    \n",
    "input_sentence= \"I want to become a Data Scientist\"\n",
    "print(\"The encrypted message is:\",encryption(input_sentence))\n",
    "            "
   ]
  },
  {
   "cell_type": "code",
   "execution_count": null,
   "id": "00bb07b2-eb55-4e27-88a3-d4adfb25ec14",
   "metadata": {},
   "outputs": [],
   "source": []
  }
 ],
 "metadata": {
  "kernelspec": {
   "display_name": "Python 3 (ipykernel)",
   "language": "python",
   "name": "python3"
  },
  "language_info": {
   "codemirror_mode": {
    "name": "ipython",
    "version": 3
   },
   "file_extension": ".py",
   "mimetype": "text/x-python",
   "name": "python",
   "nbconvert_exporter": "python",
   "pygments_lexer": "ipython3",
   "version": "3.10.8"
  }
 },
 "nbformat": 4,
 "nbformat_minor": 5
}
